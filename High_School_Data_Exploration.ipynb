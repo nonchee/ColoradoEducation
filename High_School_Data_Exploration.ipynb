{
 "cells": [
  {
   "cell_type": "markdown",
   "metadata": {},
   "source": [
    "# High School Data"
   ]
  },
  {
   "cell_type": "code",
   "execution_count": 59,
   "metadata": {
    "collapsed": false
   },
   "outputs": [
    {
     "name": "stdout",
     "output_type": "stream",
     "text": [
      "(6, 36)\n",
      "[['10' '\"H\"' '\"ABRAHAM LINCOLN HIGH SCHOOL\"' '880' '\"DENVER COUNTY 1\"' '\"\"'\n",
      "  '0' '5' '285' '3' '3' '5' '3' '2' '7' '7' '6' '7' '65.9' '3' '2' '1' '0'\n",
      "  '0' '0' '0' '1930' '0.9326425' '2.9015544' '0.984456' '91.6580311'\n",
      "  '3.1606218' '0.0518135' '0.3108808' '93' '0.785714']\n",
      " ['15' '\"H\"' '\"ACADEMY OF CHARTER SCHOOLS\"' '20'\n",
      "  '\"ADAMS 12 FIVE STAR SCHOOLS\"' '\"\"' '0' '6' '223' '6' '7' '6' '6' '5' '6'\n",
      "  '6' '7' '5' '78.5' '3' '3' '2' '1' '0' '0' '0' '1306' '0.3062787'\n",
      "  '2.5267994' '0.6891271' '25.0382848' '70.6738132' '0.1531394' '0.6125574'\n",
      "  '15.5' 'NA']\n",
      " ['22' '\"H\"' '\"LESTER R ARNOLD HIGH SCHOOL\"' '30' '\"ADAMS COUNTY 14\"' '\"\"'\n",
      "  '0' '2' '338' '1' '3' '1' '2' '1' '3' '6' '1' '6' '34.1' 'NA' 'NA' '1'\n",
      "  '0' '0' '0' '0' '160' '2.5' '0.625' '3.125' '76.25' '17.5' '0' '0' '51.3'\n",
      "  'NA']\n",
      " ['24' '\"H\"' '\"ADAMS CITY HIGH SCHOOL\"' '30' '\"ADAMS COUNTY 14\"' '\"\"' '0'\n",
      "  '1' '337' '2' '3' '5' '3' '2' '1' '3' '3' '1' '69.8' '1' '2' '3' '0' '0'\n",
      "  '0' '0' '1695' '0.9439528' '0.3539823' '3.3628319' '81.5929204'\n",
      "  '13.6873156' '0' '0.0589971' '73.7' '0.569231']\n",
      " ['33' '\"H\"' '\"MC LAIN HIGH SCHOOL\"' '1420' '\"JEFFERSON COUNTY R-1\"' '\"\"'\n",
      "  '1' '3' '331' '5' '5' '5' '6' '4' '5' '6' '3' '6' '43.9' '3' '1' '1' '0'\n",
      "  '0' '0' '0' '377' '1.061008' '1.3262599' '1.5915119' '25.729443'\n",
      "  '68.1697613' '0.265252' '1.8567639' '40.8' '0.545455']\n",
      " ['40' '\"H\"' '\"RIDGE VIEW ACADEMY CHARTER SCHOOL\"' '880'\n",
      "  '\"DENVER COUNTY 1\"' '\"\"' '1' '5' '300' '2' '3' '3' '3' '3' '9' '7' '9'\n",
      "  '10' '9.8' '2' '1' '1' '0' '0' '0' '0' '333' '1.5015015' '1.5015015'\n",
      "  '27.027027' '35.1351351' '34.8348348' '0' '0' '100' 'NA']]\n"
     ]
    }
   ],
   "source": [
    "import numpy as np\n",
    "import sys\n",
    "\n",
    "data_2010_raw = np.loadtxt(\"./Data_2010.csv\", dtype='string', delimiter=\",\")\n",
    "\n",
    "high_data_raw = []\n",
    "for i in range(len(data_2010_raw[0])):\n",
    "    if \"H\" in data_2010_raw[i][1] and \"NA\" not in data_2010_raw[i][7] :\n",
    "        high_data_raw.append(data_2010_raw[i])\n",
    "\n",
    "high_data_raw = np.asarray(high_data_raw)\n",
    "print high_data_raw.shape\n",
    "print high_data_raw"
   ]
  },
  {
   "cell_type": "code",
   "execution_count": null,
   "metadata": {
    "collapsed": true
   },
   "outputs": [],
   "source": []
  },
  {
   "cell_type": "code",
   "execution_count": 5,
   "metadata": {
    "collapsed": false
   },
   "outputs": [
    {
     "name": "stdout",
     "output_type": "stream",
     "text": [
      "1930\n",
      "0.9326425\n"
     ]
    }
   ],
   "source": [
    "print high_data_raw[0][26] # total number of students\n",
    "print high_data_raw[0][27] # start of the ethnicities\n",
    "two_or_more_races = high_data_raw[0][33] # percent two or more race\n",
    "reduced_lunches = high_data_raw[0][35] # free and reduced lunches\n",
    "remediation = high_data_raw[0][35] # remediation\n"
   ]
  },
  {
   "cell_type": "code",
   "execution_count": 32,
   "metadata": {
    "collapsed": false
   },
   "outputs": [
    {
     "name": "stdout",
     "output_type": "stream",
     "text": [
      "[['5' '0.9326425' '2.9015544' '0.984456' '91.6580311' '3.1606218'\n",
      "  '0.0518135' '0.3108808']\n",
      " ['6' '0.3062787' '2.5267994' '0.6891271' '25.0382848' '70.6738132'\n",
      "  '0.1531394' '0.6125574']\n",
      " ['2' '2.5' '0.625' '3.125' '76.25' '17.5' '0' '0']\n",
      " ['1' '0.9439528' '0.3539823' '3.3628319' '81.5929204' '13.6873156' '0'\n",
      "  '0.0589971']\n",
      " ['3' '1.061008' '1.3262599' '1.5915119' '25.729443' '68.1697613'\n",
      "  '0.265252' '1.8567639']\n",
      " ['5' '1.5015015' '1.5015015' '27.027027' '35.1351351' '34.8348348' '0' '0']]\n",
      "[ 5.  6.  2.  1.  3.  5.]\n",
      "[[  9.32642500e-01   2.90155440e+00   9.84456000e-01   9.16580311e+01\n",
      "    3.16062180e+00   5.18135000e-02   3.10880800e-01]\n",
      " [  3.06278700e-01   2.52679940e+00   6.89127100e-01   2.50382848e+01\n",
      "    7.06738132e+01   1.53139400e-01   6.12557400e-01]\n",
      " [  2.50000000e+00   6.25000000e-01   3.12500000e+00   7.62500000e+01\n",
      "    1.75000000e+01   0.00000000e+00   0.00000000e+00]\n",
      " [  9.43952800e-01   3.53982300e-01   3.36283190e+00   8.15929204e+01\n",
      "    1.36873156e+01   0.00000000e+00   5.89971000e-02]\n",
      " [  1.06100800e+00   1.32625990e+00   1.59151190e+00   2.57294430e+01\n",
      "    6.81697613e+01   2.65252000e-01   1.85676390e+00]\n",
      " [  1.50150150e+00   1.50150150e+00   2.70270270e+01   3.51351351e+01\n",
      "    3.48348348e+01   0.00000000e+00   0.00000000e+00]]\n"
     ]
    }
   ],
   "source": [
    "#Using all the proportions\n",
    "ethnic_sample = [7,27,28,29,30,31,32,33]\n",
    "\n",
    "#Using just the white proportion\n",
    "#ethnic_sample = [7,31]\n",
    "\n",
    "ethnic_hs_data = high_data_raw[:,ethnic_sample]\n",
    "print (ethnic_hs_data)\n",
    "\n",
    "#hs_targets = ethnic_hs_data[:, 0]\n",
    "#Daniel did this better\n",
    "hs_targets = ethnic_hs_data[:,0].astype(float)\n",
    "hs_features = ethnic_hs_data[:,1:].astype(float)\n",
    "\n",
    "print hs_targets\n",
    "print hs_features"
   ]
  },
  {
   "cell_type": "code",
   "execution_count": 58,
   "metadata": {
    "collapsed": false
   },
   "outputs": [
    {
     "name": "stdout",
     "output_type": "stream",
     "text": [
      "(4, 7)\n",
      "(2, 7)\n",
      "(4,)\n",
      "(2,)\n"
     ]
    }
   ],
   "source": [
    "from sklearn.cross_validation import train_test_split\n",
    "hs_features_train, hs_features_test, hs_target_train, hs_target_test = train_test_split(hs_features, hs_targets, test_size=0.33, random_state=42)\n",
    "print(hs_features_train.shape)\n",
    "print(hs_features_test.shape)\n",
    "print(hs_target_train.shape)\n",
    "print(hs_target_test.shape)"
   ]
  },
  {
   "cell_type": "code",
   "execution_count": null,
   "metadata": {
    "collapsed": true
   },
   "outputs": [],
   "source": [
    "# k nearest (may not be best since there are only 6 useable high school data entries)"
   ]
  },
  {
   "cell_type": "code",
   "execution_count": 60,
   "metadata": {
    "collapsed": false
   },
   "outputs": [
    {
     "data": {
      "image/png": "[encoded data removed]",
      "text/plain": [
       "<matplotlib.figure.Figure at 0x116a11dd0>"
      ]
     },
     "metadata": {},
     "output_type": "display_data"
    }
   ],
   "source": [
    "import numpy as np\n",
    "import matplotlib.pyplot as plt\n",
    "from sklearn import neighbors\n",
    "\n",
    "n_neighbors = 3\n",
    "\n",
    "for weights in ['uniform', 'distance']:\n",
    "    # we create an instance of Neighbours Classifier and fit the data.\n",
    "    clf = neighbors.KNeighborsClassifier(n_neighbors, weights=weights)\n",
    "    clf.fit(hs_features_train, hs_target_train)\n",
    "    hs_pred = clf.predict(hs_features_test)\n",
    "    \n",
    "    colors = []\n",
    "\n",
    "    colors = (abs(hs_target_test - hs_pred))\n",
    "    \n",
    "    %matplotlib inline\n",
    "    \n",
    "    plt.figure()\n",
    "    plt.scatter(hs_target_test, hs_pred, c= colors)\n",
    "\n",
    "    # Plot also the training points\n",
    "    plt.title(\"Class classification (k = %i, weights = '%s')\"\n",
    "              % (n_neighbors, weights))"
   ]
  },
  {
   "cell_type": "code",
   "execution_count": 64,
   "metadata": {
    "collapsed": false
   },
   "outputs": [
    {
     "name": "stdout",
     "output_type": "stream",
     "text": [
      "[[0 0 0 0]\n",
      " [0 0 0 0]\n",
      " [1 0 0 0]\n",
      " [0 1 0 0]]\n"
     ]
    },
    {
     "data": {
      "image/png": "[encoded data removed]",
      "text/plain": [
       "<matplotlib.figure.Figure at 0x11adabc10>"
      ]
     },
     "metadata": {},
     "output_type": "display_data"
    }
   ],
   "source": [
    "from sklearn.metrics import confusion_matrix\n",
    "cm = confusion_matrix(hs_target_test, hs_pred)\n",
    "print(cm)\n",
    "plt.matshow(cm)\n",
    "plt.title('Confusion matrix')\n",
    "plt.colorbar()\n",
    "plt.ylabel('True label')\n",
    "plt.xlabel('Predicted label')\n",
    "plt.show()"
   ]
  },
  {
   "cell_type": "code",
   "execution_count": 66,
   "metadata": {
    "collapsed": false
   },
   "outputs": [
    {
     "name": "stdout",
     "output_type": "stream",
     "text": [
      "Adjusted Rand Score : 1.000000\n",
      "V measure score : 1.000000\n",
      "Adjusted Mutual Info score : 1.000000\n",
      "Mutual Info score : 0.693147\n"
     ]
    }
   ],
   "source": [
    "from sklearn import metrics \n",
    "#Computing various score metrics ( adapted from Daniel's adaptation of an example provided by scikit-learn)\n",
    "\n",
    "trueLabel = hs_target_test\n",
    "predLabel = hs_pred\n",
    "\n",
    "NB_ars = metrics.adjusted_rand_score(trueLabel, predLabel)\n",
    "NB_vms = metrics.v_measure_score(trueLabel, predLabel)\n",
    "NB_amis = metrics.adjusted_mutual_info_score(trueLabel, predLabel)\n",
    "NB_mis = metrics.mutual_info_score(trueLabel, predLabel)\n",
    "\n",
    "print(\"Adjusted Rand Score : %f\" %(NB_ars))\n",
    "print(\"V measure score : %f\" %(NB_vms))\n",
    "print(\"Adjusted Mutual Info score : %f\" %(NB_amis))\n",
    "print(\"Mutual Info score : %f\" % (NB_mis))"
   ]
  },
  {
   "cell_type": "markdown",
   "metadata": {},
   "source": [
    "# Naive Bayes"
   ]
  },
  {
   "cell_type": "code",
   "execution_count": 68,
   "metadata": {
    "collapsed": false
   },
   "outputs": [],
   "source": [
    "from sklearn import naive_bayes\n",
    "from sklearn import metrics\n",
    "\n",
    "gnb = naive_bayes.GaussianNB()\n",
    "gnb.fit(hs_features_train,hs_target_train)\n",
    "predict_c = gnb.predict(hs_features_test)"
   ]
  },
  {
   "cell_type": "code",
   "execution_count": 70,
   "metadata": {
    "collapsed": false
   },
   "outputs": [
    {
     "data": {
      "image/png": "[encoded data removed]",
      "text/plain": [
       "<matplotlib.figure.Figure at 0x11b31c910>"
      ]
     },
     "metadata": {},
     "output_type": "display_data"
    }
   ],
   "source": [
    "cm = confusion_matrix(hs_target_test, predict_c)\n",
    "plt.matshow(cm)\n",
    "plt.title('Confusion matrix')\n",
    "plt.colorbar()\n",
    "plt.ylabel('True label')\n",
    "plt.xlabel('Predicted label')\n",
    "plt.show()"
   ]
  },
  {
   "cell_type": "code",
   "execution_count": null,
   "metadata": {
    "collapsed": true
   },
   "outputs": [],
   "source": [
    "#Computing various score metrics ( adapted from example provided by scikit-learn)\n",
    "\n",
    "trueLabel = ee_target_test\n",
    "predLabel = predict_c\n",
    "\n",
    "NB_ars = metrics.adjusted_rand_score(trueLabel, predLabel)\n",
    "NB_vms = metrics.v_measure_score(trueLabel, predLabel)\n",
    "NB_amis = metrics.adjusted_mutual_info_score(trueLabel, predLabel)\n",
    "NB_mis = metrics.mutual_info_score(trueLabel, predLabel)\n",
    "\n",
    "print(\"Adjusted Rand Score : %f\" %(NB_ars))\n",
    "print(\"V measure score : %f\" %(NB_vms))\n",
    "print(\"Adjusted Mutual Info score : %f\" %(NB_amis))\n",
    "print(\"Mutual Info score : %f\" % (NB_mis))"
   ]
  },
  {
   "cell_type": "markdown",
   "metadata": {
    "collapsed": true
   },
   "source": [
    "# For next week: incorporate 2011 and 2012 data as well to improve sample size "
   ]
  },
  {
   "cell_type": "code",
   "execution_count": null,
   "metadata": {
    "collapsed": true
   },
   "outputs": [],
   "source": []
  }
 ],
 "metadata": {
  "kernelspec": {
   "display_name": "Python 2",
   "language": "python",
   "name": "python2"
  },
  "language_info": {
   "codemirror_mode": {
    "name": "ipython",
    "version": 2
   },
   "file_extension": ".py",
   "mimetype": "text/x-python",
   "name": "python",
   "nbconvert_exporter": "python",
   "pygments_lexer": "ipython2",
   "version": "2.7.9"
  }
 },
 "nbformat": 4,
 "nbformat_minor": 0
}
